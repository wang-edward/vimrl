{
 "cells": [
  {
   "cell_type": "code",
   "execution_count": 8,
   "id": "a1ff74d5-999a-473d-aa65-2b27b3e90d1a",
   "metadata": {},
   "outputs": [],
   "source": [
    "!source .venv/bin/activate\n",
    "import nest_asyncio\n",
    "nest_asyncio.apply()"
   ]
  },
  {
   "cell_type": "markdown",
   "id": "85c53246-5581-40e4-9abf-c2a3841a926d",
   "metadata": {},
   "source": []
  },
  {
   "cell_type": "code",
   "execution_count": 31,
   "id": "d8234886-ab92-4b2d-a867-d49b6d783c77",
   "metadata": {},
   "outputs": [
    {
     "name": "stderr",
     "output_type": "stream",
     "text": [
      "/opt/homebrew/Cellar/python@3.11/3.11.9/Frameworks/Python.framework/Versions/3.11/lib/python3.11/dataclasses.py:433: RuntimeWarning: coroutine 'AsyncioEventLoop._connect_child.<locals>.create_subprocess' was never awaited\n",
      "  exec(txt, globals, ns)\n",
      "RuntimeWarning: Enable tracemalloc to get the object allocation traceback\n"
     ]
    }
   ],
   "source": [
    "import pynvim\n",
    "import string\n",
    "import torch\n",
    "nvim = pynvim.attach('child', argv=[ \"nvim\", \"--embed\", \"--headless\", \"--clean\"])"
   ]
  },
  {
   "cell_type": "code",
   "execution_count": 21,
   "id": "fc12d9ed-a041-46a9-9636-1c8083cd78c7",
   "metadata": {},
   "outputs": [],
   "source": [
    "string = \"whatsup\""
   ]
  },
  {
   "cell_type": "code",
   "execution_count": 23,
   "id": "4bbdcb9e-e5d5-4f11-b3ff-f479c393715e",
   "metadata": {},
   "outputs": [],
   "source": [
    "nvim.current.buffer[0] = string"
   ]
  },
  {
   "cell_type": "code",
   "execution_count": 59,
   "id": "85920cde-9fbf-4d33-b777-f2f2234d3209",
   "metadata": {},
   "outputs": [],
   "source": [
    "VOCAB = list(string.printable)\n",
    "VOCAB_TO_ID = {ch: i for i, ch in enumerate(VOCAB)}\n",
    "PAD_ID = len(VOCAB)\n",
    "MAX_LEN = 40\n",
    "\n",
    "def decode_tensor(tensor):\n",
    "    line_ids = tensor[0][:MAX_LEN].tolist()\n",
    "    cursor_encoded = tensor[0][MAX_LEN].item()\n",
    "    mode_id = int(tensor[0][MAX_LEN + 1].item())\n",
    "\n",
    "    # Decode line text\n",
    "    line = ''.join(VOCAB[int(idx)] if idx < PAD_ID else ' ' for idx in line_ids)\n",
    "\n",
    "    # Decode cursor position\n",
    "    cursor_position = int(round(cursor_encoded * MAX_LEN))\n",
    "\n",
    "    # Decode mode\n",
    "    mode = 'n' if mode_id == 0 else 'i'\n",
    "\n",
    "    return line, cursor_position, mode"
   ]
  },
  {
   "cell_type": "code",
   "execution_count": 57,
   "id": "f0e45102-dad6-49ec-becb-38fc0ef60f81",
   "metadata": {},
   "outputs": [],
   "source": [
    "tensor = torch.Tensor([[1.0000000000e+01, 1.1000000000e+01, 1.2000000000e+01, 1.3000000000e+01,\n",
    "         1.0000000000e+02, 1.0000000000e+02, 1.0000000000e+02, 1.0000000000e+02,\n",
    "         1.0000000000e+02, 1.0000000000e+02, 1.0000000000e+02, 1.0000000000e+02,\n",
    "         1.0000000000e+02, 1.0000000000e+02, 1.0000000000e+02, 1.0000000000e+02,\n",
    "         1.0000000000e+02, 1.0000000000e+02, 1.0000000000e+02, 1.0000000000e+02,\n",
    "         1.0000000000e+02, 1.0000000000e+02, 1.0000000000e+02, 1.0000000000e+02,\n",
    "         1.0000000000e+02, 1.0000000000e+02, 1.0000000000e+02, 1.0000000000e+02,\n",
    "         1.0000000000e+02, 1.0000000000e+02, 1.0000000000e+02, 1.0000000000e+02,\n",
    "         1.0000000000e+02, 1.0000000000e+02, 1.0000000000e+02, 1.0000000000e+02,\n",
    "         1.0000000000e+02, 1.0000000000e+02, 1.0000000000e+02, 1.0000000000e+02,\n",
    "         2.5000000373e-02, 0.0000000000e+00]])"
   ]
  },
  {
   "cell_type": "code",
   "execution_count": 60,
   "id": "df9d7895-8c0d-4f4c-af86-08416cd269a9",
   "metadata": {},
   "outputs": [
    {
     "data": {
      "text/plain": [
       "('abcd                                    ', 1, 'n')"
      ]
     },
     "execution_count": 60,
     "metadata": {},
     "output_type": "execute_result"
    }
   ],
   "source": [
    "decode_tensor(tensor)"
   ]
  }
 ],
 "metadata": {
  "kernelspec": {
   "display_name": "Python 3 (ipykernel)",
   "language": "python",
   "name": "python3"
  },
  "language_info": {
   "codemirror_mode": {
    "name": "ipython",
    "version": 3
   },
   "file_extension": ".py",
   "mimetype": "text/x-python",
   "name": "python",
   "nbconvert_exporter": "python",
   "pygments_lexer": "ipython3",
   "version": "3.11.9"
  }
 },
 "nbformat": 4,
 "nbformat_minor": 5
}
