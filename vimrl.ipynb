{
 "cells": [
  {
   "cell_type": "code",
   "execution_count": 8,
   "id": "a1ff74d5-999a-473d-aa65-2b27b3e90d1a",
   "metadata": {},
   "outputs": [],
   "source": [
    "!source .venv/bin/activate\n",
    "import nest_asyncio\n",
    "nest_asyncio.apply()"
   ]
  },
  {
   "cell_type": "markdown",
   "id": "85c53246-5581-40e4-9abf-c2a3841a926d",
   "metadata": {},
   "source": [
    "###### import pynvim\n",
    "nvim = pynvim.attach('child', argv=[ \"nvim\", \"--embed\", \"--headless\", \"--clean\"])"
   ]
  },
  {
   "cell_type": "code",
   "execution_count": 13,
   "id": "d8234886-ab92-4b2d-a867-d49b6d783c77",
   "metadata": {},
   "outputs": [
    {
     "data": {
      "text/plain": [
       "'n'"
      ]
     },
     "execution_count": 13,
     "metadata": {},
     "output_type": "execute_result"
    }
   ],
   "source": [
    "nvim.funcs.mode()"
   ]
  },
  {
   "cell_type": "code",
   "execution_count": 21,
   "id": "fc12d9ed-a041-46a9-9636-1c8083cd78c7",
   "metadata": {},
   "outputs": [],
   "source": [
    "string = \"whatsup\""
   ]
  },
  {
   "cell_type": "code",
   "execution_count": 23,
   "id": "4bbdcb9e-e5d5-4f11-b3ff-f479c393715e",
   "metadata": {},
   "outputs": [],
   "source": [
    "nvim.current.buffer[0] = string"
   ]
  },
  {
   "cell_type": "code",
   "execution_count": 25,
   "id": "85920cde-9fbf-4d33-b777-f2f2234d3209",
   "metadata": {},
   "outputs": [
    {
     "data": {
      "text/plain": [
       "['whatsup']"
      ]
     },
     "execution_count": 25,
     "metadata": {},
     "output_type": "execute_result"
    }
   ],
   "source": [
    "nvim.current.buffer[:]"
   ]
  }
 ],
 "metadata": {
  "kernelspec": {
   "display_name": "Python 3 (ipykernel)",
   "language": "python",
   "name": "python3"
  },
  "language_info": {
   "codemirror_mode": {
    "name": "ipython",
    "version": 3
   },
   "file_extension": ".py",
   "mimetype": "text/x-python",
   "name": "python",
   "nbconvert_exporter": "python",
   "pygments_lexer": "ipython3",
   "version": "3.11.9"
  }
 },
 "nbformat": 4,
 "nbformat_minor": 5
}
